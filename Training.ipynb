{
  "nbformat": 4,
  "nbformat_minor": 0,
  "metadata": {
    "colab": {
      "name": "Kaggle.ipynb",
      "version": "0.3.2",
      "provenance": [],
      "collapsed_sections": [],
      "include_colab_link": true
    },
    "kernelspec": {
      "name": "python3",
      "display_name": "Python 3"
    },
    "accelerator": "GPU"
  },
  "cells": [
    {
      "cell_type": "markdown",
      "metadata": {
        "id": "view-in-github",
        "colab_type": "text"
      },
      "source": [
        "<a href=\"https://colab.research.google.com/github/Yumlembam/Kaggle-Distracted-Driver/blob/master/Training.ipynb\" target=\"_parent\"><img src=\"https://colab.research.google.com/assets/colab-badge.svg\" alt=\"Open In Colab\"/></a>"
      ]
    },
    {
      "metadata": {
        "id": "CVXiI19IfMvH",
        "colab_type": "code",
        "outputId": "c0ddd6b4-ca61-4612-e291-20ba1784d458",
        "colab": {
          "base_uri": "https://localhost:8080/",
          "height": 204
        }
      },
      "cell_type": "code",
      "source": [
        "#install dependencies\n",
        "!pip install kaggle"
      ],
      "execution_count": 0,
      "outputs": [
        {
          "output_type": "stream",
          "text": [
            "Requirement already satisfied: kaggle in /usr/local/lib/python3.6/dist-packages (1.5.2)\n",
            "Requirement already satisfied: urllib3<1.23.0,>=1.15 in /usr/local/lib/python3.6/dist-packages (from kaggle) (1.22)\n",
            "Requirement already satisfied: six>=1.10 in /usr/local/lib/python3.6/dist-packages (from kaggle) (1.11.0)\n",
            "Requirement already satisfied: certifi in /usr/local/lib/python3.6/dist-packages (from kaggle) (2018.11.29)\n",
            "Requirement already satisfied: python-dateutil in /usr/local/lib/python3.6/dist-packages (from kaggle) (2.5.3)\n",
            "Requirement already satisfied: requests in /usr/local/lib/python3.6/dist-packages (from kaggle) (2.18.4)\n",
            "Requirement already satisfied: tqdm in /usr/local/lib/python3.6/dist-packages (from kaggle) (4.28.1)\n",
            "Requirement already satisfied: python-slugify in /usr/local/lib/python3.6/dist-packages (from kaggle) (2.0.1)\n",
            "Requirement already satisfied: idna<2.7,>=2.5 in /usr/local/lib/python3.6/dist-packages (from requests->kaggle) (2.6)\n",
            "Requirement already satisfied: chardet<3.1.0,>=3.0.2 in /usr/local/lib/python3.6/dist-packages (from requests->kaggle) (3.0.4)\n",
            "Requirement already satisfied: Unidecode>=0.04.16 in /usr/local/lib/python3.6/dist-packages (from python-slugify->kaggle) (1.0.23)\n"
          ],
          "name": "stdout"
        }
      ]
    },
    {
      "metadata": {
        "id": "ZBKJ8z57fi49",
        "colab_type": "code",
        "outputId": "971b77fb-ef3f-45d6-a3cc-19e62d7c433d",
        "colab": {
          "resources": {
            "http://localhost:8080/nbextensions/google.colab/files.js": {
              "data": "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",
              "ok": true,
              "headers": [
                [
                  "content-type",
                  "application/javascript"
                ]
              ],
              "status": 200,
              "status_text": ""
            }
          },
          "base_uri": "https://localhost:8080/",
          "height": 57
        }
      },
      "cell_type": "code",
      "source": [
        "# upload the credential of kaggle account\n",
        "from google.colab import files\n",
        "files.upload()\n"
      ],
      "execution_count": 0,
      "outputs": [
        {
          "output_type": "display_data",
          "data": {
            "text/html": [
              "\n",
              "     <input type=\"file\" id=\"files-bb03c720-618b-4ebd-b199-26948256132f\" name=\"files[]\" multiple disabled />\n",
              "     <output id=\"result-bb03c720-618b-4ebd-b199-26948256132f\">\n",
              "      Upload widget is only available when the cell has been executed in the\n",
              "      current browser session. Please rerun this cell to enable.\n",
              "      </output>\n",
              "      <script src=\"/nbextensions/google.colab/files.js\"></script> "
            ],
            "text/plain": [
              "<IPython.core.display.HTML object>"
            ]
          },
          "metadata": {
            "tags": []
          }
        },
        {
          "output_type": "execute_result",
          "data": {
            "text/plain": [
              "{}"
            ]
          },
          "metadata": {
            "tags": []
          },
          "execution_count": 1
        }
      ]
    },
    {
      "metadata": {
        "id": "brLCd9L3g03n",
        "colab_type": "code",
        "colab": {}
      },
      "cell_type": "code",
      "source": [
        "#before importing the dataset we want to use this code\n",
        "# The Kaggle API client expects this file to be in ~/.kaggle,\n",
        "!mkdir -p ~/.kaggle\n",
        "!cp kaggle.json ~/.kaggle/\n",
        "\n",
        "# This permissions change avoids a warning on Kaggle tool startup.\n",
        "!chmod 600 ~/.kaggle/kaggle.json"
      ],
      "execution_count": 0,
      "outputs": []
    },
    {
      "metadata": {
        "id": "iAAvEHE-hP2t",
        "colab_type": "code",
        "outputId": "1daf8661-fefd-4eab-c727-a5dc5d95e829",
        "colab": {
          "base_uri": "https://localhost:8080/",
          "height": 68
        }
      },
      "cell_type": "code",
      "source": [
        "#import the dataset we want to use for our project\n",
        "!kaggle competitions download -c state-farm-distracted-driver-detection"
      ],
      "execution_count": 0,
      "outputs": [
        {
          "output_type": "stream",
          "text": [
            "sample_submission.csv.zip: Skipping, found more recently modified local copy (use --force to force download)\n",
            "imgs.zip: Skipping, found more recently modified local copy (use --force to force download)\n",
            "driver_imgs_list.csv.zip: Skipping, found more recently modified local copy (use --force to force download)\n"
          ],
          "name": "stdout"
        }
      ]
    },
    {
      "metadata": {
        "id": "sidy3WvLmyMm",
        "colab_type": "code",
        "outputId": "cadfc1e0-ce21-4c89-cdd8-008d7c0cc5ff",
        "colab": {
          "base_uri": "https://localhost:8080/",
          "height": 68
        }
      },
      "cell_type": "code",
      "source": [
        "!ls"
      ],
      "execution_count": 3,
      "outputs": [
        {
          "output_type": "stream",
          "text": [
            " driver_imgs_list.csv.zip   kaggle.json\t\t        test\n",
            " imgs.zip\t\t    sample_data\t\t        train\n",
            "'kaggle (1).json'\t    sample_submission.csv.zip\n"
          ],
          "name": "stdout"
        }
      ]
    },
    {
      "metadata": {
        "id": "v3n5WJET1LaH",
        "colab_type": "code",
        "colab": {}
      },
      "cell_type": "code",
      "source": [
        "# Unzip the data\n",
        "!unzip -q imgs.zip "
      ],
      "execution_count": 0,
      "outputs": []
    },
    {
      "metadata": {
        "id": "xBPbPKvAO9uI",
        "colab_type": "code",
        "outputId": "072edb64-c974-4f74-be14-93b71c2ef42f",
        "colab": {
          "base_uri": "https://localhost:8080/"
        }
      },
      "cell_type": "code",
      "source": [
        "!ls"
      ],
      "execution_count": 0,
      "outputs": [
        {
          "output_type": "stream",
          "text": [
            " driver_imgs_list.csv.zip   kaggle.json\t\t        test\n",
            " imgs.zip\t\t    sample_data\t\t        train\n",
            "'kaggle (1).json'\t    sample_submission.csv.zip\n"
          ],
          "name": "stdout"
        }
      ]
    },
    {
      "metadata": {
        "id": "irksJoXHwWk0",
        "colab_type": "code",
        "outputId": "d73ae838-b286-4974-91a1-8316d582ca6b",
        "colab": {
          "base_uri": "https://localhost:8080/",
          "height": 34
        }
      },
      "cell_type": "code",
      "source": [
        "import os\n",
        "total_count=0\n",
        "for i in range(10):\n",
        "  path, dirs, files = next(os.walk(\"/content/train/c\"+str(i)))\n",
        "  file_count = len(files)\n",
        "  total_count = total_count+file_count\n",
        "  \n",
        "print(total_count)\n"
      ],
      "execution_count": 4,
      "outputs": [
        {
          "output_type": "stream",
          "text": [
            "22424\n"
          ],
          "name": "stdout"
        }
      ]
    },
    {
      "metadata": {
        "id": "b7Okn0s7pAJq",
        "colab_type": "code",
        "colab": {}
      },
      "cell_type": "code",
      "source": [
        "import pandas as pd\n",
        "df = pd.read_csv('driver_imgs_list.csv.zip', compression='zip', header=0, sep=',', quotechar='\"')"
      ],
      "execution_count": 0,
      "outputs": []
    },
    {
      "metadata": {
        "id": "DaF1B3C5pacb",
        "colab_type": "code",
        "outputId": "344fce49-41b0-42c3-bba4-75c68273338e",
        "colab": {
          "base_uri": "https://localhost:8080/",
          "height": 204
        }
      },
      "cell_type": "code",
      "source": [
        "df.head()"
      ],
      "execution_count": 6,
      "outputs": [
        {
          "output_type": "execute_result",
          "data": {
            "text/html": [
              "<div>\n",
              "<style scoped>\n",
              "    .dataframe tbody tr th:only-of-type {\n",
              "        vertical-align: middle;\n",
              "    }\n",
              "\n",
              "    .dataframe tbody tr th {\n",
              "        vertical-align: top;\n",
              "    }\n",
              "\n",
              "    .dataframe thead th {\n",
              "        text-align: right;\n",
              "    }\n",
              "</style>\n",
              "<table border=\"1\" class=\"dataframe\">\n",
              "  <thead>\n",
              "    <tr style=\"text-align: right;\">\n",
              "      <th></th>\n",
              "      <th>subject</th>\n",
              "      <th>classname</th>\n",
              "      <th>img</th>\n",
              "    </tr>\n",
              "  </thead>\n",
              "  <tbody>\n",
              "    <tr>\n",
              "      <th>0</th>\n",
              "      <td>p002</td>\n",
              "      <td>c0</td>\n",
              "      <td>img_44733.jpg</td>\n",
              "    </tr>\n",
              "    <tr>\n",
              "      <th>1</th>\n",
              "      <td>p002</td>\n",
              "      <td>c0</td>\n",
              "      <td>img_72999.jpg</td>\n",
              "    </tr>\n",
              "    <tr>\n",
              "      <th>2</th>\n",
              "      <td>p002</td>\n",
              "      <td>c0</td>\n",
              "      <td>img_25094.jpg</td>\n",
              "    </tr>\n",
              "    <tr>\n",
              "      <th>3</th>\n",
              "      <td>p002</td>\n",
              "      <td>c0</td>\n",
              "      <td>img_69092.jpg</td>\n",
              "    </tr>\n",
              "    <tr>\n",
              "      <th>4</th>\n",
              "      <td>p002</td>\n",
              "      <td>c0</td>\n",
              "      <td>img_92629.jpg</td>\n",
              "    </tr>\n",
              "  </tbody>\n",
              "</table>\n",
              "</div>"
            ],
            "text/plain": [
              "  subject classname            img\n",
              "0    p002        c0  img_44733.jpg\n",
              "1    p002        c0  img_72999.jpg\n",
              "2    p002        c0  img_25094.jpg\n",
              "3    p002        c0  img_69092.jpg\n",
              "4    p002        c0  img_92629.jpg"
            ]
          },
          "metadata": {
            "tags": []
          },
          "execution_count": 6
        }
      ]
    },
    {
      "metadata": {
        "id": "3coOe-fF0N6j",
        "colab_type": "code",
        "outputId": "d29cd201-892b-458a-f1b1-789d36eb102c",
        "colab": {
          "base_uri": "https://localhost:8080/",
          "height": 51
        }
      },
      "cell_type": "code",
      "source": [
        "!pip install pillow"
      ],
      "execution_count": 7,
      "outputs": [
        {
          "output_type": "stream",
          "text": [
            "Requirement already satisfied: pillow in /usr/local/lib/python3.6/dist-packages (4.1.1)\n",
            "Requirement already satisfied: olefile in /usr/local/lib/python3.6/dist-packages (from pillow) (0.46)\n"
          ],
          "name": "stdout"
        }
      ]
    },
    {
      "metadata": {
        "id": "q9ateq16zQIk",
        "colab_type": "code",
        "colab": {
          "base_uri": "https://localhost:8080/",
          "height": 286
        },
        "outputId": "dab89a69-6443-4bb3-a31f-8e4e11fa8cef"
      },
      "cell_type": "code",
      "source": [
        "from matplotlib import pyplot as plt\n",
        "%matplotlib inline\n",
        "example_img = plt.imread(\"/content/train/c0/img_44733.jpg\")\n",
        "plt.grid(False)\n",
        "plt.imshow(example_img)"
      ],
      "execution_count": 8,
      "outputs": [
        {
          "output_type": "execute_result",
          "data": {
            "text/plain": [
              "<matplotlib.image.AxesImage at 0x7f77e7cfb198>"
            ]
          },
          "metadata": {
            "tags": []
          },
          "execution_count": 8
        },
        {
          "output_type": "display_data",
          "data": {
            "image/png": "[encoded data removed]",
            "text/plain": [
              "<Figure size 432x288 with 1 Axes>"
            ]
          },
          "metadata": {
            "tags": []
          }
        }
      ]
    },
    {
      "metadata": {
        "id": "qcl5E3OB1bQ1",
        "colab_type": "code",
        "colab": {}
      },
      "cell_type": "code",
      "source": [
        "#Converting classname into category\n",
        "df['classname'] = pd.factorize(df['classname'])[0]\n"
      ],
      "execution_count": 0,
      "outputs": []
    },
    {
      "metadata": {
        "id": "x6LcRMVBE7hF",
        "colab_type": "code",
        "outputId": "c2c9d98b-4b80-44a7-bc78-f379e03b2b98",
        "colab": {
          "base_uri": "https://localhost:8080/",
          "height": 204
        }
      },
      "cell_type": "code",
      "source": [
        "#counting the number of instance of each class\n",
        "count_class=df['classname'].value_counts() \n",
        "print(count_class)"
      ],
      "execution_count": 11,
      "outputs": [
        {
          "output_type": "stream",
          "text": [
            "0    2489\n",
            "3    2346\n",
            "4    2326\n",
            "6    2325\n",
            "2    2317\n",
            "5    2312\n",
            "1    2267\n",
            "9    2129\n",
            "7    2002\n",
            "8    1911\n",
            "Name: classname, dtype: int64\n"
          ],
          "name": "stdout"
        }
      ]
    },
    {
      "metadata": {
        "id": "GzRHTUmChuZi",
        "colab_type": "code",
        "outputId": "6a0f0fff-9368-41a5-852d-eb0935cf319d",
        "colab": {
          "base_uri": "https://localhost:8080/",
          "height": 34
        }
      },
      "cell_type": "code",
      "source": [
        "!ls"
      ],
      "execution_count": 0,
      "outputs": [
        {
          "output_type": "stream",
          "text": [
            "sample_data\n"
          ],
          "name": "stdout"
        }
      ]
    },
    {
      "metadata": {
        "id": "IgR6YdqaiVyT",
        "colab_type": "code",
        "colab": {}
      },
      "cell_type": "code",
      "source": [
        "# Lets copy all the training data in train set to one folder for easy processing\n",
        "!cp -a /content/train/c0/. /content/combine_train/\n",
        "!cp -a /content/train/c1/. /content/combine_train/\n",
        "!cp -a /content/train/c2/. /content/combine_train/\n",
        "!cp -a /content/train/c3/. /content/combine_train/\n",
        "!cp -a /content/train/c4/. /content/combine_train/\n",
        "!cp -a /content/train/c5/. /content/combine_train/\n",
        "!cp -a /content/train/c6/. /content/combine_train/\n",
        "!cp -a /content/train/c7/. /content/combine_train/\n",
        "!cp -a /content/train/c8/. /content/combine_train/\n",
        "!cp -a /content/train/c9/. /content/combine_train/"
      ],
      "execution_count": 0,
      "outputs": []
    },
    {
      "metadata": {
        "colab_type": "code",
        "id": "1QegTvWqkLLJ",
        "outputId": "b96df165-a0cf-4c17-da77-dfd9b5868abf",
        "colab": {
          "base_uri": "https://localhost:8080/",
          "height": 34
        }
      },
      "cell_type": "code",
      "source": [
        "path, dirs, files = next(os.walk(\"/content/combine_train\"))\n",
        "file_count = len(files)\n",
        "print(file_count) # confirming the number of file after copying"
      ],
      "execution_count": 14,
      "outputs": [
        {
          "output_type": "stream",
          "text": [
            "22424\n"
          ],
          "name": "stdout"
        }
      ]
    },
    {
      "metadata": {
        "id": "H4GnoOzpqKb5",
        "colab_type": "code",
        "colab": {}
      },
      "cell_type": "code",
      "source": [
        "import numpy as np\n",
        "from skimage import io\n",
        "from skimage.transform import resize\n",
        "def convert_to_array(image):\n",
        "  \n",
        "  image_file = io.imread(\"/content/combine_train/\"+str(image))\n",
        "  image_resized = resize(image_file, (128, 128)) #resize the image to 128*128\n",
        "  image_data = image_resized/ 255 # Normalize the image\n",
        "  return image_data"
      ],
      "execution_count": 0,
      "outputs": []
    },
    {
      "metadata": {
        "id": "deU-1A9bj46O",
        "colab_type": "code",
        "outputId": "c0977c27-50f6-4e17-c61b-71982c90fb77",
        "colab": {
          "base_uri": "https://localhost:8080/",
          "height": 904
        }
      },
      "cell_type": "code",
      "source": [
        "i=0\n",
        "X_train = np.ndarray(shape = (df.shape[0], 128, 128, 3), dtype = np.float32)\n",
        "for fname in df[\"img\"]:\n",
        "  image_array = convert_to_array(fname)\n",
        "  X_train[i,:,:,:] = image_array\n",
        "  i +=1\n",
        "\n",
        "print(X_train[1,:,:,:])\n",
        "  \n",
        "  "
      ],
      "execution_count": 18,
      "outputs": [
        {
          "output_type": "stream",
          "text": [
            "/usr/local/lib/python3.6/dist-packages/skimage/transform/_warps.py:84: UserWarning: The default mode, 'constant', will be changed to 'reflect' in skimage 0.15.\n",
            "  warn(\"The default mode, 'constant', will be changed to 'reflect' in \"\n"
          ],
          "name": "stderr"
        },
        {
          "output_type": "stream",
          "text": [
            "[[[2.40292196e-04 3.47943103e-04 2.24913500e-04]\n",
            "  [2.30680511e-04 3.38331418e-04 2.15301814e-04]\n",
            "  [2.74894264e-04 3.82545171e-04 2.59515567e-04]\n",
            "  ...\n",
            "  [3.86582082e-03 3.88312177e-03 3.90234520e-03]\n",
            "  [3.92156886e-03 3.86005384e-03 3.92156886e-03]\n",
            "  [3.89081123e-03 3.89081123e-03 3.89081123e-03]]\n",
            "\n",
            " [[2.30680511e-04 3.07574024e-04 1.99923103e-04]\n",
            "  [2.63360242e-04 3.40253755e-04 2.32602848e-04]\n",
            "  [2.67204916e-04 3.44098429e-04 2.36447522e-04]\n",
            "  ...\n",
            "  [3.45059601e-03 3.79661680e-03 3.76778166e-03]\n",
            "  [3.84275289e-03 3.90618993e-03 3.92156886e-03]\n",
            "  [3.90618993e-03 3.87543254e-03 3.89081123e-03]]\n",
            "\n",
            " [[2.74894264e-04 3.21030384e-04 2.13379462e-04]\n",
            "  [3.32564407e-04 3.78700497e-04 2.71049590e-04]\n",
            "  [2.74894264e-04 3.21030384e-04 2.13379462e-04]\n",
            "  ...\n",
            "  [3.21030384e-03 3.80430603e-03 3.78700509e-03]\n",
            "  [3.78508260e-03 3.92156886e-03 3.92156886e-03]\n",
            "  [3.92156886e-03 3.90618993e-03 3.87543254e-03]]\n",
            "\n",
            " ...\n",
            "\n",
            " [[1.38408301e-04 1.23029604e-04 9.22722029e-05]\n",
            "  [1.48019986e-04 1.13417918e-04 1.55709349e-04]\n",
            "  [9.32228828e-19 1.34563626e-04 1.65321035e-04]\n",
            "  ...\n",
            "  [2.42214534e-04 2.42214534e-04 2.11457125e-04]\n",
            "  [1.71088046e-04 1.71088046e-04 1.40330638e-04]\n",
            "  [9.99615513e-05 9.99615513e-05 6.92041503e-05]]\n",
            "\n",
            " [[1.38408301e-04 1.23029604e-04 6.15148019e-05]\n",
            "  [1.84544406e-04 1.05728563e-04 6.53594761e-05]\n",
            "  [1.03806226e-04 1.38408301e-04 9.61168771e-05]\n",
            "  ...\n",
            "  [2.67204916e-04 2.53748556e-04 2.22991162e-04]\n",
            "  [1.55709349e-04 1.42252975e-04 1.11495581e-04]\n",
            "  [1.51864660e-04 1.38408301e-04 1.07650907e-04]]\n",
            "\n",
            " [[8.84275287e-05 1.48019986e-04 6.15148019e-05]\n",
            "  [1.49942323e-04 1.23029604e-04 4.61361014e-05]\n",
            "  [7.68935060e-05 1.63398698e-04 2.69127268e-05]\n",
            "  ...\n",
            "  [1.98000766e-04 1.53787012e-04 1.32641289e-04]\n",
            "  [1.92233754e-04 1.48019986e-04 1.26874278e-04]\n",
            "  [3.74855823e-04 3.30642069e-04 3.09496361e-04]]]\n"
          ],
          "name": "stdout"
        }
      ]
    },
    {
      "metadata": {
        "id": "URADexxblJzD",
        "colab_type": "code",
        "outputId": "c2f54615-df53-4cb1-9617-94079cd5a104",
        "colab": {
          "base_uri": "https://localhost:8080/",
          "height": 34
        }
      },
      "cell_type": "code",
      "source": [
        "print(X_train[1,:,:,:].shape)"
      ],
      "execution_count": 19,
      "outputs": [
        {
          "output_type": "stream",
          "text": [
            "(128, 128, 3)\n"
          ],
          "name": "stdout"
        }
      ]
    },
    {
      "metadata": {
        "id": "AxcIranu8mYU",
        "colab_type": "code",
        "outputId": "54787d58-8609-4856-f722-298780d7e6ac",
        "colab": {
          "base_uri": "https://localhost:8080/",
          "height": 136
        }
      },
      "cell_type": "code",
      "source": [
        "targets = np.array([[2, 3, 4, 0]])\n",
        "print(type(targets))\n",
        "print(targets)\n",
        "print(targets.shape)\n",
        "one_hot_targets = np.eye(6)[targets]\n",
        "print(one_hot_targets)"
      ],
      "execution_count": 0,
      "outputs": [
        {
          "output_type": "stream",
          "text": [
            "<class 'numpy.ndarray'>\n",
            "[[2 3 4 0]]\n",
            "(1, 4)\n",
            "[[[0. 0. 1. 0. 0. 0.]\n",
            "  [0. 0. 0. 1. 0. 0.]\n",
            "  [0. 0. 0. 0. 1. 0.]\n",
            "  [1. 0. 0. 0. 0. 0.]]]\n"
          ],
          "name": "stdout"
        }
      ]
    },
    {
      "metadata": {
        "id": "m5G_fwKv8CuW",
        "colab_type": "code",
        "outputId": "083b83fb-6b8a-47c8-e832-597e44c29de0",
        "colab": {
          "base_uri": "https://localhost:8080/",
          "height": 34
        }
      },
      "cell_type": "code",
      "source": [
        "import numpy as np\n",
        "Y_train= df[\"classname\"].values\n",
        "one_hot_targets = np.eye(10)[Y_train]\n",
        "print(one_hot_targets[1].shape)"
      ],
      "execution_count": 20,
      "outputs": [
        {
          "output_type": "stream",
          "text": [
            "(10,)\n"
          ],
          "name": "stdout"
        }
      ]
    },
    {
      "metadata": {
        "id": "Y5pUfK4dEDET",
        "colab_type": "code",
        "outputId": "bc8dd458-a9f9-4cf8-e2d1-3987081952de",
        "colab": {
          "base_uri": "https://localhost:8080/",
          "height": 122
        }
      },
      "cell_type": "code",
      "source": [
        "from google.colab import drive\n",
        "drive.mount('/gdrive')"
      ],
      "execution_count": 0,
      "outputs": [
        {
          "output_type": "stream",
          "text": [
            "Go to this URL in a browser: https://accounts.google.com/o/oauth2/auth?client_id=947318989803-6bn6qk8qdgf4n4g3pfee6491hc0brc4i.apps.googleusercontent.com&redirect_uri=urn%3Aietf%3Awg%3Aoauth%3A2.0%3Aoob&scope=email%20https%3A%2F%2Fwww.googleapis.com%2Fauth%2Fdocs.test%20https%3A%2F%2Fwww.googleapis.com%2Fauth%2Fdrive%20https%3A%2F%2Fwww.googleapis.com%2Fauth%2Fdrive.photos.readonly%20https%3A%2F%2Fwww.googleapis.com%2Fauth%2Fpeopleapi.readonly&response_type=code\n",
            "\n",
            "Enter your authorization code:\n",
            "··········\n",
            "Mounted at /gdrive\n"
          ],
          "name": "stdout"
        }
      ]
    },
    {
      "metadata": {
        "id": "v_3ZU7K73oxy",
        "colab_type": "code",
        "colab": {}
      },
      "cell_type": "code",
      "source": [
        "#If you want to save image array as .h5 file for future use\n",
        "'''import h5py\n",
        "with h5py.File('/gdrive/My Drive/image_array.h5', 'r') as hf:\n",
        "    data_train = hf['train_driver_dataset'][:]'''"
      ],
      "execution_count": 0,
      "outputs": []
    },
    {
      "metadata": {
        "id": "x7z3pKZEZvfN",
        "colab_type": "code",
        "colab": {}
      },
      "cell_type": "code",
      "source": [
        "\n",
        "from sklearn.model_selection import train_test_split\n",
        "\n",
        "X_train, X_test, y_train, y_test = train_test_split(X_train, one_hot_targets ,train_size = 0.4,test_size=0.2,random_state=42)"
      ],
      "execution_count": 0,
      "outputs": []
    },
    {
      "metadata": {
        "id": "dR_YiU6rc5sh",
        "colab_type": "code",
        "outputId": "986b01f9-6979-4036-b69e-96e5a1d4793a",
        "colab": {
          "base_uri": "https://localhost:8080/",
          "height": 85
        }
      },
      "cell_type": "code",
      "source": [
        "print(\"Training data shape\",X_train.shape)\n",
        "print(\"Training target shape\",y_train.shape)\n",
        "print(\"Testing data shape\",X_test.shape)\n",
        "print(\"Training test shape\",y_test.shape)\n",
        "\n"
      ],
      "execution_count": 22,
      "outputs": [
        {
          "output_type": "stream",
          "text": [
            "Training data shape (8969, 128, 128, 3)\n",
            "Training target shape (8969, 10)\n",
            "Testing data shape (4485, 128, 128, 3)\n",
            "Training test shape (4485, 10)\n"
          ],
          "name": "stdout"
        }
      ]
    },
    {
      "metadata": {
        "id": "FTPJkNbcdd7o",
        "colab_type": "code",
        "colab": {}
      },
      "cell_type": "code",
      "source": [
        "# Creating place holder\n",
        "import tensorflow as tf\n",
        "from tensorflow.python.framework import ops\n",
        "import math\n",
        "from cnn_utils import *"
      ],
      "execution_count": 0,
      "outputs": []
    },
    {
      "metadata": {
        "id": "wL-W8UFUhf3n",
        "colab_type": "code",
        "colab": {}
      },
      "cell_type": "code",
      "source": [
        "# GRADED FUNCTION: create_placeholders\n",
        "\n",
        "def create_placeholders(n_H0, n_W0, n_C0, n_y):\n",
        "    \"\"\"\n",
        "    Creates the placeholders for the tensorflow session.\n",
        "    \n",
        "    Arguments:\n",
        "    n_H0 -- scalar, height of an input image\n",
        "    n_W0 -- scalar, width of an input image\n",
        "    n_C0 -- scalar, number of channels of the input\n",
        "    n_y -- scalar, number of classes\n",
        "        \n",
        "    Returns:\n",
        "    X -- placeholder for the data input, of shape [None, n_H0, n_W0, n_C0] and dtype \"float\"\n",
        "    Y -- placeholder for the input labels, of shape [None, n_y] and dtype \"float\"\n",
        "    \"\"\"\n",
        "    ### START CODE HERE ### (≈2 lines)\n",
        "    X = tf.placeholder(tf.float32, shape=[None, n_H0, n_W0, n_C0],name=\"X_placeholder\")\n",
        "    Y = tf.placeholder(tf.float32, shape=[None, n_y],name=\"Y_placeholder\")\n",
        "    \n",
        "    ### END CODE HERE ###\n",
        "    \n",
        "    return X, Y"
      ],
      "execution_count": 0,
      "outputs": []
    },
    {
      "metadata": {
        "id": "7kRveisdhpV_",
        "colab_type": "code",
        "outputId": "a0f0386d-0ccf-4685-a054-22ec7bf6af92",
        "colab": {
          "base_uri": "https://localhost:8080/",
          "height": 51
        }
      },
      "cell_type": "code",
      "source": [
        "X, Y = create_placeholders(64, 64, 3, 6)\n",
        "print(\"X =\"+ str(X))\n",
        "print(\"Y =\"+ str(Y))"
      ],
      "execution_count": 26,
      "outputs": [
        {
          "output_type": "stream",
          "text": [
            "X =Tensor(\"X_placeholder:0\", shape=(?, 64, 64, 3), dtype=float32)\n",
            "Y =Tensor(\"Y_placeholder:0\", shape=(?, 6), dtype=float32)\n"
          ],
          "name": "stdout"
        }
      ]
    },
    {
      "metadata": {
        "id": "TQqcuJ9-hske",
        "colab_type": "code",
        "colab": {}
      },
      "cell_type": "code",
      "source": [
        "# GRADED FUNCTION: initialize_parameters\n",
        "\n",
        "def initialize_parameters():\n",
        "    \"\"\"\n",
        "    Initializes weight parameters to build a neural network with tensorflow. The shapes are:\n",
        "                        W1 : [4, 4, 3, 8]\n",
        "                        W2 : [2, 2, 8, 16]\n",
        "    Returns:\n",
        "    parameters -- a dictionary of tensors containing W1, W2\n",
        "    \"\"\"\n",
        "    \n",
        "    tf.set_random_seed(1)                              # so that your \"random\" numbers match ours\n",
        "        \n",
        "    ### START CODE HERE ### (approx. 2 lines of code)\n",
        "    \n",
        "    W1 = tf.get_variable('W1', [4,4,3,8], initializer = tf.contrib.layers.xavier_initializer(seed = 0))\n",
        "    W2 = tf.get_variable('W2', [2,2,8,16], initializer = tf.contrib.layers.xavier_initializer(seed = 0))\n",
        "    \n",
        "    ## END CODE HERE ##\n",
        "    parameters ={\"W1\": W1,\n",
        "                  \"W2\": W2}\n",
        "    return parameters"
      ],
      "execution_count": 0,
      "outputs": []
    },
    {
      "metadata": {
        "id": "6HXzwLWniegR",
        "colab_type": "code",
        "outputId": "34301f87-a6fb-440f-b5a4-49edd1c08fe8",
        "colab": {
          "base_uri": "https://localhost:8080/",
          "height": 292
        }
      },
      "cell_type": "code",
      "source": [
        "tf.reset_default_graph()\n",
        "with tf.Session() as sees_test:\n",
        "  \n",
        "    parameters = initialize_parameters()\n",
        "    init = tf.global_variables_initializer()\n",
        "    sees_test.run(init)\n",
        "    print(\"W1 = \" + str(parameters[\"W1\"].eval()[1,1,1]))\n",
        "    print(\"W2 = \" + str(parameters[\"W2\"].eval()[1,1,1]))"
      ],
      "execution_count": 28,
      "outputs": [
        {
          "output_type": "stream",
          "text": [
            "\n",
            "WARNING: The TensorFlow contrib module will not be included in TensorFlow 2.0.\n",
            "For more information, please see:\n",
            "  * https://github.com/tensorflow/community/blob/master/rfcs/20180907-contrib-sunset.md\n",
            "  * https://github.com/tensorflow/addons\n",
            "If you depend on functionality not listed there, please file an issue.\n",
            "\n",
            "WARNING:tensorflow:From /usr/local/lib/python3.6/dist-packages/tensorflow/python/framework/op_def_library.py:263: colocate_with (from tensorflow.python.framework.ops) is deprecated and will be removed in a future version.\n",
            "Instructions for updating:\n",
            "Colocations handled automatically by placer.\n",
            "W1 = [ 0.00131723  0.1417614  -0.04434952  0.09197326  0.14984085 -0.03514394\n",
            " -0.06847463  0.05245192]\n",
            "W2 = [-0.08566415  0.17750949  0.11974221  0.16773748 -0.0830943  -0.08058\n",
            " -0.00577033 -0.14643836  0.24162132 -0.05857408 -0.19055021  0.1345228\n",
            " -0.22779644 -0.1601823  -0.16117483 -0.10286498]\n"
          ],
          "name": "stdout"
        }
      ]
    },
    {
      "metadata": {
        "id": "IqKxn12fldLW",
        "colab_type": "code",
        "colab": {}
      },
      "cell_type": "code",
      "source": [
        "# GRADED FUNCTION: forward_propagation\n",
        "\n",
        "def forward_propagation(X, parameters):\n",
        "    \"\"\"\n",
        "    Implements the forward propagation for the model:\n",
        "    CONV2D -> RELU -> MAXPOOL -> CONV2D -> RELU -> MAXPOOL -> FLATTEN -> FULLYCONNECTED\n",
        "    \n",
        "    Arguments:\n",
        "    X -- input dataset placeholder, of shape (input size, number of examples)\n",
        "    parameters -- python dictionary containing your parameters \"W1\", \"W2\"\n",
        "                  the shapes are given in initialize_parameters\n",
        "\n",
        "    Returns:\n",
        "    Z3 -- the output of the last LINEAR unit\n",
        "    \"\"\"\n",
        "    # Retrieve the parameters from the dictionary \"parameters\" \n",
        "    W1 = parameters[\"W1\"]\n",
        "    W2 = parameters[\"W2\"]\n",
        "    ### START CODE HERE ###\n",
        "    # CONV2D: stride of 1, padding 'SAME'\n",
        "    \n",
        "    Z1 = tf.nn.conv2d(X, W1, strides= [1,1,1,1], padding =\"SAME\")\n",
        "    \n",
        "    #Relu\n",
        "    \n",
        "    A1 = tf.nn.relu(Z1)\n",
        "    \n",
        "    # MAXPOOL: window 8x8, sride 8, padding 'SAME'\n",
        "    \n",
        "    P1 = tf.nn.max_pool(A1, ksize=[1,8,8,1], strides=[1,8,8,1], padding =\"SAME\")\n",
        "    \n",
        "    # CONV2D: filters W2, stride 1, padding 'SAME'\n",
        "    \n",
        "    Z2 = tf.nn.conv2d(P1, W2, strides =[1,1,1,1], padding =\"SAME\")\n",
        "    \n",
        "    #Relu\n",
        "    A2 = tf.nn.relu(Z2)\n",
        "    \n",
        "    # MAXPOOL: window 4x4, stride 4, padding 'SAME'\n",
        "    \n",
        "    P2 = tf.nn.max_pool(A2, ksize=[1,4,4,1], strides=[1,4,4,1], padding=\"SAME\")\n",
        "    \n",
        "    # FLATTEN\n",
        "    \n",
        "    P2 = tf.contrib.layers.flatten(P2)\n",
        "    \n",
        "    # FULLY-CONNECTED without non-linear activation function (not not call softmax).\n",
        "    # 6 neurons in output layer. Hint: one of the arguments should be \"activation_fn=None\" \n",
        "    \n",
        "    Z3 = tf.contrib.layers.fully_connected(P2, 11, activation_fn= None)\n",
        "    \n",
        "    #END CODE HERE\n",
        "    \n",
        "    return Z3"
      ],
      "execution_count": 0,
      "outputs": []
    },
    {
      "metadata": {
        "id": "kWegk_T9phVF",
        "colab_type": "code",
        "outputId": "64868661-f42d-4633-f601-f64e3c4fd4f5",
        "colab": {
          "base_uri": "https://localhost:8080/",
          "height": 156
        }
      },
      "cell_type": "code",
      "source": [
        "tf.reset_default_graph()\n",
        "\n",
        "with tf.Session() as sees:\n",
        "    np.random.seed(1)\n",
        "    X, Y = create_placeholders(64, 64, 3, 6)\n",
        "    parameters = initialize_parameters()\n",
        "    Z3 = forward_propagation(X, parameters)\n",
        "    init = tf.global_variables_initializer()\n",
        "    sees.run(init)\n",
        "    a = sees.run(Z3, {X: np.random.randn(2, 64, 64, 3)})\n",
        "    print(\"Z3 =\" + str(a))"
      ],
      "execution_count": 30,
      "outputs": [
        {
          "output_type": "stream",
          "text": [
            "WARNING:tensorflow:From /usr/local/lib/python3.6/dist-packages/tensorflow/contrib/layers/python/layers/layers.py:1624: flatten (from tensorflow.python.layers.core) is deprecated and will be removed in a future version.\n",
            "Instructions for updating:\n",
            "Use keras.layers.flatten instead.\n",
            "Z3 =[[ 2.4164295  -1.1614199   0.981163    0.6824026  -0.05248657  0.7184313\n",
            "   0.22008131  0.80433124  2.404187    1.7046089   0.45491973]\n",
            " [ 2.0366726  -0.92503506  1.1718057   0.4065038   0.138816    0.90338784\n",
            "   0.07981753  0.5967737   1.9868093   2.1816905   0.11782407]]\n"
          ],
          "name": "stdout"
        }
      ]
    },
    {
      "metadata": {
        "id": "b-B5NMhGqCn8",
        "colab_type": "code",
        "colab": {}
      },
      "cell_type": "code",
      "source": [
        "# GRADED FUNCTION: compute_cost \n",
        "\n",
        "def compute_cost(Z3, Y):\n",
        "    \"\"\"\n",
        "    Computes the cost\n",
        "    \n",
        "    Arguments:\n",
        "    Z3 -- output of forward propagation (output of the last LINEAR unit), of shape (6, number of examples)\n",
        "    Y -- \"true\" labels vector placeholder, same shape as Z3\n",
        "    \n",
        "    Returns:\n",
        "    cost - Tensor of the cost function\n",
        "    \"\"\"\n",
        "    \n",
        "    ### START CODE HERE ### (1 line of code)\n",
        "    cost = tf.nn.softmax_cross_entropy_with_logits(logits= Z3, labels = Y)\n",
        "    cost = tf.reduce_mean(cost)\n",
        "    ### END CODE HERE ###\n",
        "    \n",
        "    return cost\n",
        "  "
      ],
      "execution_count": 0,
      "outputs": []
    },
    {
      "metadata": {
        "id": "JVwHIsBclN6c",
        "colab_type": "code",
        "outputId": "6df2fc75-0737-4e9d-a915-5676bda53234",
        "colab": {
          "base_uri": "https://localhost:8080/",
          "height": 190
        }
      },
      "cell_type": "code",
      "source": [
        "tf.reset_default_graph()\n",
        "\n",
        "with tf.Session() as sees:\n",
        "    np.random.seed(1)\n",
        "    X, Y = create_placeholders(64, 64, 3, 11)\n",
        "    parameters = initialize_parameters()\n",
        "    Z3 = forward_propagation(X, parameters)\n",
        "    cost = compute_cost(Z3, Y)\n",
        "    init = tf.global_variables_initializer()\n",
        "    sees.run(init)\n",
        "    a = sees.run(cost, {X: np.random.randn(4,64,64,3), Y:np.random.randn(4,11)})\n",
        "    print(\"Cost =\", str(a))"
      ],
      "execution_count": 32,
      "outputs": [
        {
          "output_type": "stream",
          "text": [
            "WARNING:tensorflow:From <ipython-input-31-0457baf7b79e>:15: softmax_cross_entropy_with_logits (from tensorflow.python.ops.nn_ops) is deprecated and will be removed in a future version.\n",
            "Instructions for updating:\n",
            "\n",
            "Future major versions of TensorFlow will allow gradients to flow\n",
            "into the labels input on backprop by default.\n",
            "\n",
            "See `tf.nn.softmax_cross_entropy_with_logits_v2`.\n",
            "\n",
            "Cost = 1.1419544\n"
          ],
          "name": "stdout"
        }
      ]
    },
    {
      "metadata": {
        "id": "kC5k5Z5jrEwe",
        "colab_type": "code",
        "colab": {}
      },
      "cell_type": "code",
      "source": [
        "\n",
        "def model(X_train, Y_train, X_test, Y_test, learning_rate = 0.009,\n",
        "          num_epochs = 100, minibatch_size = 64, print_cost = True):\n",
        "    \"\"\"\n",
        "    Implements a three-layer ConvNet in Tensorflow:\n",
        "    CONV2D -> RELU -> MAXPOOL -> CONV2D -> RELU -> MAXPOOL -> FLATTEN -> FULLYCONNECTED\n",
        "    \n",
        "    Arguments:\n",
        "    X_train -- training set, of shape (None, 64, 64, 3)\n",
        "    Y_train -- test set, of shape (None, n_y = 6)\n",
        "    X_test -- training set, of shape (None, 64, 64, 3)\n",
        "    Y_test -- test set, of shape (None, n_y = 6)\n",
        "    learning_rate -- learning rate of the optimization\n",
        "    num_epochs -- number of epochs of the optimization loop\n",
        "    minibatch_size -- size of a minibatch\n",
        "    print_cost -- True to print the cost every 100 epochs\n",
        "    \n",
        "    Returns:\n",
        "    train_accuracy -- real number, accuracy on the train set (X_train)\n",
        "    test_accuracy -- real number, testing accuracy on the test set (X_test)\n",
        "    parameters -- parameters learnt by the model. They can then be used to predict.\n",
        "    \"\"\"\n",
        "    \n",
        "    ops.reset_default_graph()                         # to be able to rerun the model without overwriting tf variables\n",
        "    tf.set_random_seed(1)                             # to keep results consistent (tensorflow seed)\n",
        "    seed = 3                                          # to keep results consistent (numpy seed)\n",
        "    (m, n_H0, n_W0, n_C0) = X_train.shape             \n",
        "    n_y = Y_train.shape[1]                            \n",
        "    costs = []                                        # To keep track of the cost\n",
        "    \n",
        "    # Create Placeholders of the correct shape\n",
        "    ### START CODE HERE ### (1 line)\n",
        "    X, Y = create_placeholders(n_H0, n_W0, n_C0, n_y)\n",
        "    ### END CODE HERE ###\n",
        "\n",
        "    # Initialize parameters\n",
        "    ### START CODE HERE ### (1 line)\n",
        "    parameters = initialize_parameters()\n",
        "    ### END CODE HERE ###\n",
        "    \n",
        "    # Forward propagation: Build the forward propagation in the tensorflow graph\n",
        "    ### START CODE HERE ### (1 line)\n",
        "    Z3 = forward_propagation(X, parameters)\n",
        "    ### END CODE HERE ###\n",
        "    \n",
        "    # Cost function: Add cost function to tensorflow graph\n",
        "    ### START CODE HERE ### (1 line)\n",
        "    cost = compute_cost(Z3, Y)\n",
        "    ### END CODE HERE ###\n",
        "    \n",
        "    # Backpropagation: Define the tensorflow optimizer. Use an AdamOptimizer that minimizes the cost.\n",
        "    ### START CODE HERE ### (1 line)\n",
        "    optimizer = tf.train.AdamOptimizer(learning_rate=learning_rate).minimize(cost)\n",
        "    ### END CODE HERE ###\n",
        "    \n",
        "    # Initialize all the variables globally\n",
        "    init = tf.global_variables_initializer()\n",
        "    \n",
        "    # Add ops to save and restore all the variables.\n",
        "    saver = tf.train.Saver()\n",
        "     \n",
        "    # Start the session to compute the tensorflow graph\n",
        "    with tf.Session() as sess:\n",
        "        \n",
        "        # Run the initialization\n",
        "        sess.run(init)\n",
        "        \n",
        "        # Do the training loop\n",
        "        for epoch in range(num_epochs):\n",
        "\n",
        "            minibatch_cost = 0.\n",
        "            num_minibatches = int(m / minibatch_size) # number of minibatches of size minibatch_size in the train set\n",
        "            seed = seed + 1\n",
        "            minibatches = random_mini_batches(X_train, Y_train, minibatch_size, seed)\n",
        "\n",
        "            for minibatch in minibatches:\n",
        "\n",
        "                # Select a minibatch\n",
        "                (minibatch_X, minibatch_Y) = minibatch\n",
        "                # IMPORTANT: The line that runs the graph on a minibatch.\n",
        "                # Run the session to execute the optimizer and the cost, the feedict should contain a minibatch for (X,Y).\n",
        "                ### START CODE HERE ### (1 line)\n",
        "                _ , temp_cost = sess.run([optimizer, cost], feed_dict={X: minibatch_X, Y: minibatch_Y})\n",
        "                ### END CODE HERE ###\n",
        "                \n",
        "                minibatch_cost += temp_cost / num_minibatches\n",
        "                \n",
        "\n",
        "            # Print the cost every epoch\n",
        "            if print_cost == True and epoch % 5 == 0:\n",
        "                print (\"Cost after epoch %i: %f\" % (epoch, minibatch_cost))\n",
        "            if print_cost == True and epoch % 1 == 0:\n",
        "                costs.append(minibatch_cost)\n",
        "        \n",
        "        \n",
        "        # plot the cost\n",
        "        plt.plot(np.squeeze(costs))\n",
        "        plt.ylabel('cost')\n",
        "        plt.xlabel('iterations (per tens)')\n",
        "        plt.title(\"Learning rate =\" + str(learning_rate))\n",
        "        plt.show()\n",
        "        \n",
        "        \n",
        "        #First try to bring out this\n",
        "        predict_op = tf.argmax(Z3, 1,name=\"Prediction\")\n",
        "        save_path = saver.save(sess, \"/gdrive/My Drive/new_driver_state.ckpt\")\n",
        "        print(\"Model saved in file: %s\" % save_path)\n",
        "        correct_prediction = tf.equal(predict_op, tf.argmax(Y, 1))\n",
        "        \n",
        "        # Calculate accuracy on the test set\n",
        "        accuracy = tf.reduce_mean(tf.cast(correct_prediction, \"float\"))\n",
        "        print(accuracy)\n",
        "        train_accuracy = accuracy.eval({X: X_train, Y: Y_train})\n",
        "        test_accuracy = accuracy.eval({X: X_test, Y: Y_test})\n",
        "        print(\"Train Accuracy:\", train_accuracy)\n",
        "        print(\"Test Accuracy:\", test_accuracy)\n",
        "                \n",
        "        return train_accuracy, test_accuracy, parameters\n",
        "\n",
        "    "
      ],
      "execution_count": 0,
      "outputs": []
    },
    {
      "metadata": {
        "id": "QgE8O-7hZwJ-",
        "colab_type": "code",
        "outputId": "6f732a4f-e765-4901-b42d-c1edbba59e0a",
        "colab": {
          "base_uri": "https://localhost:8080/",
          "height": 1161
        }
      },
      "cell_type": "code",
      "source": [
        "_, _, parameters = model(X_train, y_train, X_test, y_test)"
      ],
      "execution_count": 0,
      "outputs": [
        {
          "output_type": "stream",
          "text": [
            "\n",
            "WARNING: The TensorFlow contrib module will not be included in TensorFlow 2.0.\n",
            "For more information, please see:\n",
            "  * https://github.com/tensorflow/community/blob/master/rfcs/20180907-contrib-sunset.md\n",
            "  * https://github.com/tensorflow/addons\n",
            "If you depend on functionality not listed there, please file an issue.\n",
            "\n",
            "WARNING:tensorflow:From /usr/local/lib/python3.6/dist-packages/tensorflow/python/framework/op_def_library.py:263: colocate_with (from tensorflow.python.framework.ops) is deprecated and will be removed in a future version.\n",
            "Instructions for updating:\n",
            "Colocations handled automatically by placer.\n",
            "WARNING:tensorflow:From /usr/local/lib/python3.6/dist-packages/tensorflow/contrib/layers/python/layers/layers.py:1624: flatten (from tensorflow.python.layers.core) is deprecated and will be removed in a future version.\n",
            "Instructions for updating:\n",
            "Use keras.layers.flatten instead.\n",
            "WARNING:tensorflow:From <ipython-input-12-0457baf7b79e>:15: softmax_cross_entropy_with_logits (from tensorflow.python.ops.nn_ops) is deprecated and will be removed in a future version.\n",
            "Instructions for updating:\n",
            "\n",
            "Future major versions of TensorFlow will allow gradients to flow\n",
            "into the labels input on backprop by default.\n",
            "\n",
            "See `tf.nn.softmax_cross_entropy_with_logits_v2`.\n",
            "\n",
            "Cost after epoch 0: 2.196474\n",
            "Cost after epoch 5: 0.720671\n",
            "Cost after epoch 10: 0.410561\n",
            "Cost after epoch 15: 0.296159\n",
            "Cost after epoch 20: 0.224600\n",
            "Cost after epoch 25: 0.186237\n",
            "Cost after epoch 30: 0.169118\n",
            "Cost after epoch 35: 0.141057\n",
            "Cost after epoch 40: 0.132121\n",
            "Cost after epoch 45: 0.114623\n",
            "Cost after epoch 50: 0.086894\n",
            "Cost after epoch 55: 0.083453\n",
            "Cost after epoch 60: 0.068118\n",
            "Cost after epoch 65: 0.066109\n",
            "Cost after epoch 70: 0.079267\n",
            "Cost after epoch 75: 0.048555\n",
            "Cost after epoch 80: 0.052946\n",
            "Cost after epoch 85: 0.040932\n",
            "Cost after epoch 90: 0.038683\n",
            "Cost after epoch 95: 0.039979\n"
          ],
          "name": "stdout"
        },
        {
          "output_type": "display_data",
          "data": {
            "image/png": "[encoded data removed]",
            "text/plain": [
              "<Figure size 576x396 with 1 Axes>"
            ]
          },
          "metadata": {
            "tags": []
          }
        },
        {
          "output_type": "stream",
          "text": [
            "Model saved in file: /gdrive/My Drive/new_driver_state.ckpt\n",
            "Tensor(\"Mean_1:0\", shape=(), dtype=float32)\n",
            "Train Accuracy: 0.988293\n",
            "Test Accuracy: 0.94158304\n"
          ],
          "name": "stdout"
        }
      ]
    }
  ]
}