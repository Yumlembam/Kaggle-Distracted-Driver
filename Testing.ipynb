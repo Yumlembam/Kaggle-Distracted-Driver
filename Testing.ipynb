{
  "nbformat": 4,
  "nbformat_minor": 0,
  "metadata": {
    "colab": {
      "name": "Testing.ipynb",
      "version": "0.3.2",
      "provenance": [],
      "include_colab_link": true
    },
    "kernelspec": {
      "name": "python3",
      "display_name": "Python 3"
    },
    "accelerator": "GPU"
  },
  "cells": [
    {
      "cell_type": "markdown",
      "metadata": {
        "id": "view-in-github",
        "colab_type": "text"
      },
      "source": [
        "<a href=\"https://colab.research.google.com/github/Yumlembam/Kaggle-Distracted-Driver/blob/master/Testing.ipynb\" target=\"_parent\"><img src=\"https://colab.research.google.com/assets/colab-badge.svg\" alt=\"Open In Colab\"/></a>"
      ]
    },
    {
      "metadata": {
        "id": "BSrHH92jDfsJ",
        "colab_type": "code",
        "colab": {
          "resources": {
            "http://localhost:8080/nbextensions/google.colab/files.js": {
              "data": "Ly8gQ29weXJpZ2h0IDIwMTcgR29vZ2xlIExMQwovLwovLyBMaWNlbnNlZCB1bmRlciB0aGUgQXBhY2hlIExpY2Vuc2UsIFZlcnNpb24gMi4wICh0aGUgIkxpY2Vuc2UiKTsKLy8geW91IG1heSBub3QgdXNlIHRoaXMgZmlsZSBleGNlcHQgaW4gY29tcGxpYW5jZSB3aXRoIHRoZSBMaWNlbnNlLgovLyBZb3UgbWF5IG9idGFpbiBhIGNvcHkgb2YgdGhlIExpY2Vuc2UgYXQKLy8KLy8gICAgICBodHRwOi8vd3d3LmFwYWNoZS5vcmcvbGljZW5zZXMvTElDRU5TRS0yLjAKLy8KLy8gVW5sZXNzIHJlcXVpcmVkIGJ5IGFwcGxpY2FibGUgbGF3IG9yIGFncmVlZCB0byBpbiB3cml0aW5nLCBzb2Z0d2FyZQovLyBkaXN0cmlidXRlZCB1bmRlciB0aGUgTGljZW5zZSBpcyBkaXN0cmlidXRlZCBvbiBhbiAiQVMgSVMiIEJBU0lTLAovLyBXSVRIT1VUIFdBUlJBTlRJRVMgT1IgQ09ORElUSU9OUyBPRiBBTlkgS0lORCwgZWl0aGVyIGV4cHJlc3Mgb3IgaW1wbGllZC4KLy8gU2VlIHRoZSBMaWNlbnNlIGZvciB0aGUgc3BlY2lmaWMgbGFuZ3VhZ2UgZ292ZXJuaW5nIHBlcm1pc3Npb25zIGFuZAovLyBsaW1pdGF0aW9ucyB1bmRlciB0aGUgTGljZW5zZS4KCi8qKgogKiBAZmlsZW92ZXJ2aWV3IEhlbHBlcnMgZm9yIGdvb2dsZS5jb2xhYiBQeXRob24gbW9kdWxlLgogKi8KKGZ1bmN0aW9uKHNjb3BlKSB7CmZ1bmN0aW9uIHNwYW4odGV4dCwgc3R5bGVBdHRyaWJ1dGVzID0ge30pIHsKICBjb25zdCBlbGVtZW50ID0gZG9jdW1lbnQuY3JlYXRlRWxlbWVudCgnc3BhbicpOwogIGVsZW1lbnQudGV4dENvbnRlbnQgPSB0ZXh0OwogIGZvciAoY29uc3Qga2V5IG9mIE9iamVjdC5rZXlzKHN0eWxlQXR0cmlidXRlcykpIHsKICAgIGVsZW1lbnQuc3R5bGVba2V5XSA9IHN0eWxlQXR0cmlidXRlc1trZXldOwogIH0KICByZXR1cm4gZWxlbWVudDsKfQoKLy8gTWF4IG51bWJlciBvZiBieXRlcyB3aGljaCB3aWxsIGJlIHVwbG9hZGVkIGF0IGEgdGltZS4KY29uc3QgTUFYX1BBWUxPQURfU0laRSA9IDEwMCAqIDEwMjQ7Ci8vIE1heCBhbW91bnQgb2YgdGltZSB0byBibG9jayB3YWl0aW5nIGZvciB0aGUgdXNlci4KY29uc3QgRklMRV9DSEFOR0VfVElNRU9VVF9NUyA9IDMwICogMTAwMDsKCmZ1bmN0aW9uIF91cGxvYWRGaWxlcyhpbnB1dElkLCBvdXRwdXRJZCkgewogIGNvbnN0IHN0ZXBzID0gdXBsb2FkRmlsZXNTdGVwKGlucHV0SWQsIG91dHB1dElkKTsKICBjb25zdCBvdXRwdXRFbGVtZW50ID0gZG9jdW1lbnQuZ2V0RWxlbWVudEJ5SWQob3V0cHV0SWQpOwogIC8vIENhY2hlIHN0ZXBzIG9uIHRoZSBvdXRwdXRFbGVtZW50IHRvIG1ha2UgaXQgYXZhaWxhYmxlIGZvciB0aGUgbmV4dCBjYWxsCiAgLy8gdG8gdXBsb2FkRmlsZXNDb250aW51ZSBmcm9tIFB5dGhvbi4KICBvdXRwdXRFbGVtZW50LnN0ZXBzID0gc3RlcHM7CgogIHJldHVybiBfdXBsb2FkRmlsZXNDb250aW51ZShvdXRwdXRJZCk7Cn0KCi8vIFRoaXMgaXMgcm91Z2hseSBhbiBhc3luYyBnZW5lcmF0b3IgKG5vdCBzdXBwb3J0ZWQgaW4gdGhlIGJyb3dzZXIgeWV0KSwKLy8gd2hlcmUgdGhlcmUgYXJlIG11bHRpcGxlIGFzeW5jaHJvbm91cyBzdGVwcyBhbmQgdGhlIFB5dGhvbiBzaWRlIGlzIGdvaW5nCi8vIHRvIHBvbGwgZm9yIGNvbXBsZXRpb24gb2YgZWFjaCBzdGVwLgovLyBUaGlzIHVzZXMgYSBQcm9taXNlIHRvIGJsb2NrIHRoZSBweXRob24gc2lkZSBvbiBjb21wbGV0aW9uIG9mIGVhY2ggc3RlcCwKLy8gdGhlbiBwYXNzZXMgdGhlIHJlc3VsdCBvZiB0aGUgcHJldmlvdXMgc3RlcCBhcyB0aGUgaW5wdXQgdG8gdGhlIG5leHQgc3RlcC4KZnVuY3Rpb24gX3VwbG9hZEZpbGVzQ29udGludWUob3V0cHV0SWQpIHsKICBjb25zdCBvdXRwdXRFbGVtZW50ID0gZG9jdW1lbnQuZ2V0RWxlbWVudEJ5SWQob3V0cHV0SWQpOwogIGNvbnN0IHN0ZXBzID0gb3V0cHV0RWxlbWVudC5zdGVwczsKCiAgY29uc3QgbmV4dCA9IHN0ZXBzLm5leHQob3V0cHV0RWxlbWVudC5sYXN0UHJvbWlzZVZhbHVlKTsKICByZXR1cm4gUHJvbWlzZS5yZXNvbHZlKG5leHQudmFsdWUucHJvbWlzZSkudGhlbigodmFsdWUpID0+IHsKICAgIC8vIENhY2hlIHRoZSBsYXN0IHByb21pc2UgdmFsdWUgdG8gbWFrZSBpdCBhdmFpbGFibGUgdG8gdGhlIG5leHQKICAgIC8vIHN0ZXAgb2YgdGhlIGdlbmVyYXRvci4KICAgIG91dHB1dEVsZW1lbnQubGFzdFByb21pc2VWYWx1ZSA9IHZhbHVlOwogICAgcmV0dXJuIG5leHQudmFsdWUucmVzcG9uc2U7CiAgfSk7Cn0KCi8qKgogKiBHZW5lcmF0b3IgZnVuY3Rpb24gd2hpY2ggaXMgY2FsbGVkIGJldHdlZW4gZWFjaCBhc3luYyBzdGVwIG9mIHRoZSB1cGxvYWQKICogcHJvY2Vzcy4KICogQHBhcmFtIHtzdHJpbmd9IGlucHV0SWQgRWxlbWVudCBJRCBvZiB0aGUgaW5wdXQgZmlsZSBwaWNrZXIgZWxlbWVudC4KICogQHBhcmFtIHtzdHJpbmd9IG91dHB1dElkIEVsZW1lbnQgSUQgb2YgdGhlIG91dHB1dCBkaXNwbGF5LgogKiBAcmV0dXJuIHshSXRlcmFibGU8IU9iamVjdD59IEl0ZXJhYmxlIG9mIG5leHQgc3RlcHMuCiAqLwpmdW5jdGlvbiogdXBsb2FkRmlsZXNTdGVwKGlucHV0SWQsIG91dHB1dElkKSB7CiAgY29uc3QgaW5wdXRFbGVtZW50ID0gZG9jdW1lbnQuZ2V0RWxlbWVudEJ5SWQoaW5wdXRJZCk7CiAgaW5wdXRFbGVtZW50LmRpc2FibGVkID0gZmFsc2U7CgogIGNvbnN0IG91dHB1dEVsZW1lbnQgPSBkb2N1bWVudC5nZXRFbGVtZW50QnlJZChvdXRwdXRJZCk7CiAgb3V0cHV0RWxlbWVudC5pbm5lckhUTUwgPSAnJzsKCiAgY29uc3QgcGlja2VkUHJvbWlzZSA9IG5ldyBQcm9taXNlKChyZXNvbHZlKSA9PiB7CiAgICBpbnB1dEVsZW1lbnQuYWRkRXZlbnRMaXN0ZW5lcignY2hhbmdlJywgKGUpID0+IHsKICAgICAgcmVzb2x2ZShlLnRhcmdldC5maWxlcyk7CiAgICB9KTsKICB9KTsKCiAgY29uc3QgY2FuY2VsID0gZG9jdW1lbnQuY3JlYXRlRWxlbWVudCgnYnV0dG9uJyk7CiAgaW5wdXRFbGVtZW50LnBhcmVudEVsZW1lbnQuYXBwZW5kQ2hpbGQoY2FuY2VsKTsKICBjYW5jZWwudGV4dENvbnRlbnQgPSAnQ2FuY2VsIHVwbG9hZCc7CiAgY29uc3QgY2FuY2VsUHJvbWlzZSA9IG5ldyBQcm9taXNlKChyZXNvbHZlKSA9PiB7CiAgICBjYW5jZWwub25jbGljayA9ICgpID0+IHsKICAgICAgcmVzb2x2ZShudWxsKTsKICAgIH07CiAgfSk7CgogIC8vIENhbmNlbCB1cGxvYWQgaWYgdXNlciBoYXNuJ3QgcGlja2VkIGFueXRoaW5nIGluIHRpbWVvdXQuCiAgY29uc3QgdGltZW91dFByb21pc2UgPSBuZXcgUHJvbWlzZSgocmVzb2x2ZSkgPT4gewogICAgc2V0VGltZW91dCgoKSA9PiB7CiAgICAgIHJlc29sdmUobnVsbCk7CiAgICB9LCBGSUxFX0NIQU5HRV9USU1FT1VUX01TKTsKICB9KTsKCiAgLy8gV2FpdCBmb3IgdGhlIHVzZXIgdG8gcGljayB0aGUgZmlsZXMuCiAgY29uc3QgZmlsZXMgPSB5aWVsZCB7CiAgICBwcm9taXNlOiBQcm9taXNlLnJhY2UoW3BpY2tlZFByb21pc2UsIHRpbWVvdXRQcm9taXNlLCBjYW5jZWxQcm9taXNlXSksCiAgICByZXNwb25zZTogewogICAgICBhY3Rpb246ICdzdGFydGluZycsCiAgICB9CiAgfTsKCiAgaWYgKCFmaWxlcykgewogICAgcmV0dXJuIHsKICAgICAgcmVzcG9uc2U6IHsKICAgICAgICBhY3Rpb246ICdjb21wbGV0ZScsCiAgICAgIH0KICAgIH07CiAgfQoKICBjYW5jZWwucmVtb3ZlKCk7CgogIC8vIERpc2FibGUgdGhlIGlucHV0IGVsZW1lbnQgc2luY2UgZnVydGhlciBwaWNrcyBhcmUgbm90IGFsbG93ZWQuCiAgaW5wdXRFbGVtZW50LmRpc2FibGVkID0gdHJ1ZTsKCiAgZm9yIChjb25zdCBmaWxlIG9mIGZpbGVzKSB7CiAgICBjb25zdCBsaSA9IGRvY3VtZW50LmNyZWF0ZUVsZW1lbnQoJ2xpJyk7CiAgICBsaS5hcHBlbmQoc3BhbihmaWxlLm5hbWUsIHtmb250V2VpZ2h0OiAnYm9sZCd9KSk7CiAgICBsaS5hcHBlbmQoc3BhbigKICAgICAgICBgKCR7ZmlsZS50eXBlIHx8ICduL2EnfSkgLSAke2ZpbGUuc2l6ZX0gYnl0ZXMsIGAgKwogICAgICAgIGBsYXN0IG1vZGlmaWVkOiAkewogICAgICAgICAgICBmaWxlLmxhc3RNb2RpZmllZERhdGUgPyBmaWxlLmxhc3RNb2RpZmllZERhdGUudG9Mb2NhbGVEYXRlU3RyaW5nKCkgOgogICAgICAgICAgICAgICAgICAgICAgICAgICAgICAgICAgICAnbi9hJ30gLSBgKSk7CiAgICBjb25zdCBwZXJjZW50ID0gc3BhbignMCUgZG9uZScpOwogICAgbGkuYXBwZW5kQ2hpbGQocGVyY2VudCk7CgogICAgb3V0cHV0RWxlbWVudC5hcHBlbmRDaGlsZChsaSk7CgogICAgY29uc3QgZmlsZURhdGFQcm9taXNlID0gbmV3IFByb21pc2UoKHJlc29sdmUpID0+IHsKICAgICAgY29uc3QgcmVhZGVyID0gbmV3IEZpbGVSZWFkZXIoKTsKICAgICAgcmVhZGVyLm9ubG9hZCA9IChlKSA9PiB7CiAgICAgICAgcmVzb2x2ZShlLnRhcmdldC5yZXN1bHQpOwogICAgICB9OwogICAgICByZWFkZXIucmVhZEFzQXJyYXlCdWZmZXIoZmlsZSk7CiAgICB9KTsKICAgIC8vIFdhaXQgZm9yIHRoZSBkYXRhIHRvIGJlIHJlYWR5LgogICAgbGV0IGZpbGVEYXRhID0geWllbGQgewogICAgICBwcm9taXNlOiBmaWxlRGF0YVByb21pc2UsCiAgICAgIHJlc3BvbnNlOiB7CiAgICAgICAgYWN0aW9uOiAnY29udGludWUnLAogICAgICB9CiAgICB9OwoKICAgIC8vIFVzZSBhIGNodW5rZWQgc2VuZGluZyB0byBhdm9pZCBtZXNzYWdlIHNpemUgbGltaXRzLiBTZWUgYi82MjExNTY2MC4KICAgIGxldCBwb3NpdGlvbiA9IDA7CiAgICB3aGlsZSAocG9zaXRpb24gPCBmaWxlRGF0YS5ieXRlTGVuZ3RoKSB7CiAgICAgIGNvbnN0IGxlbmd0aCA9IE1hdGgubWluKGZpbGVEYXRhLmJ5dGVMZW5ndGggLSBwb3NpdGlvbiwgTUFYX1BBWUxPQURfU0laRSk7CiAgICAgIGNvbnN0IGNodW5rID0gbmV3IFVpbnQ4QXJyYXkoZmlsZURhdGEsIHBvc2l0aW9uLCBsZW5ndGgpOwogICAgICBwb3NpdGlvbiArPSBsZW5ndGg7CgogICAgICBjb25zdCBiYXNlNjQgPSBidG9hKFN0cmluZy5mcm9tQ2hhckNvZGUuYXBwbHkobnVsbCwgY2h1bmspKTsKICAgICAgeWllbGQgewogICAgICAgIHJlc3BvbnNlOiB7CiAgICAgICAgICBhY3Rpb246ICdhcHBlbmQnLAogICAgICAgICAgZmlsZTogZmlsZS5uYW1lLAogICAgICAgICAgZGF0YTogYmFzZTY0LAogICAgICAgIH0sCiAgICAgIH07CiAgICAgIHBlcmNlbnQudGV4dENvbnRlbnQgPQogICAgICAgICAgYCR7TWF0aC5yb3VuZCgocG9zaXRpb24gLyBmaWxlRGF0YS5ieXRlTGVuZ3RoKSAqIDEwMCl9JSBkb25lYDsKICAgIH0KICB9CgogIC8vIEFsbCBkb25lLgogIHlpZWxkIHsKICAgIHJlc3BvbnNlOiB7CiAgICAgIGFjdGlvbjogJ2NvbXBsZXRlJywKICAgIH0KICB9Owp9CgpzY29wZS5nb29nbGUgPSBzY29wZS5nb29nbGUgfHwge307CnNjb3BlLmdvb2dsZS5jb2xhYiA9IHNjb3BlLmdvb2dsZS5jb2xhYiB8fCB7fTsKc2NvcGUuZ29vZ2xlLmNvbGFiLl9maWxlcyA9IHsKICBfdXBsb2FkRmlsZXMsCiAgX3VwbG9hZEZpbGVzQ29udGludWUsCn07Cn0pKHNlbGYpOwo=",
              "ok": true,
              "headers": [
                [
                  "content-type",
                  "application/javascript"
                ]
              ],
              "status": 200,
              "status_text": ""
            }
          },
          "base_uri": "https://localhost:8080/",
          "height": 57
        },
        "outputId": "9d72bde9-578b-49e8-9ce2-44f087d5d89c"
      },
      "cell_type": "code",
      "source": [
        "# upload the credential of kaggle account\n",
        "from google.colab import files\n",
        "files.upload()"
      ],
      "execution_count": 1,
      "outputs": [
        {
          "output_type": "display_data",
          "data": {
            "text/html": [
              "\n",
              "     <input type=\"file\" id=\"files-fe69a78c-791c-4e0a-8ef9-f079f79e346a\" name=\"files[]\" multiple disabled />\n",
              "     <output id=\"result-fe69a78c-791c-4e0a-8ef9-f079f79e346a\">\n",
              "      Upload widget is only available when the cell has been executed in the\n",
              "      current browser session. Please rerun this cell to enable.\n",
              "      </output>\n",
              "      <script src=\"/nbextensions/google.colab/files.js\"></script> "
            ],
            "text/plain": [
              "<IPython.core.display.HTML object>"
            ]
          },
          "metadata": {
            "tags": []
          }
        },
        {
          "output_type": "execute_result",
          "data": {
            "text/plain": [
              "{}"
            ]
          },
          "metadata": {
            "tags": []
          },
          "execution_count": 1
        }
      ]
    },
    {
      "metadata": {
        "id": "HSY4FHJ1Du9m",
        "colab_type": "code",
        "colab": {}
      },
      "cell_type": "code",
      "source": [
        "#before importing the dataset we want to use this code\n",
        "# The Kaggle API client expects this file to be in ~/.kaggle,\n",
        "!mkdir -p ~/.kaggle\n",
        "!cp kaggle.json ~/.kaggle/\n",
        "\n",
        "# This permissions change avoids a warning on Kaggle tool startup.\n",
        "!chmod 600 ~/.kaggle/kaggle.json"
      ],
      "execution_count": 0,
      "outputs": []
    },
    {
      "metadata": {
        "id": "qzvGCte2DzSP",
        "colab_type": "code",
        "colab": {}
      },
      "cell_type": "code",
      "source": [
        "#import the dataset we want to use for our project\n",
        "!kaggle competitions download -c state-farm-distracted-driver-detection"
      ],
      "execution_count": 0,
      "outputs": []
    },
    {
      "metadata": {
        "id": "indi7hh4Dz-8",
        "colab_type": "code",
        "colab": {}
      },
      "cell_type": "code",
      "source": [
        "from google.colab import drive\n",
        "drive.mount('/gdrive')"
      ],
      "execution_count": 0,
      "outputs": []
    },
    {
      "metadata": {
        "id": "vQYJ1-exEPjx",
        "colab_type": "code",
        "colab": {}
      },
      "cell_type": "code",
      "source": [
        "#Since we divide the test set, load the .h5 file accordingly\n",
        "import h5py\n",
        "with h5py.File('/gdrive/My Drive/10_test_array.h5', 'r') as hf:\n",
        "    data_test = hf['test_dataset_10'][:]"
      ],
      "execution_count": 0,
      "outputs": []
    },
    {
      "metadata": {
        "id": "lCTDHUiXD41d",
        "colab_type": "code",
        "colab": {}
      },
      "cell_type": "code",
      "source": [
        "# Creating place holder\n",
        "import tensorflow as tf\n",
        "from tensorflow.python.framework import ops\n",
        "import math"
      ],
      "execution_count": 0,
      "outputs": []
    },
    {
      "metadata": {
        "id": "4L7M_K7nD-1n",
        "colab_type": "code",
        "colab": {}
      },
      "cell_type": "code",
      "source": [
        "saver = tf.train.import_meta_graph('/gdrive/My Drive/new_driver_state.ckpt.meta')\n",
        "graph = tf.get_default_graph()\n",
        "sess = tf.Session()\n",
        "saver.restore(sess, \"/gdrive/My Drive/new_driver_state.ckpt\")\n",
        "#pprint.pprint([v.name for v in tf.global_variables()])\n",
        "#for op in graph.get_operations():\n",
        "  #print(op.name)\n",
        "X = graph.get_tensor_by_name(\"X_placeholder:0\")\n",
        "print(str(X))\n",
        "Y = graph.get_tensor_by_name(\"Y_placeholder:0\")\n",
        "print(str(Y))\n",
        "Z3= graph.get_tensor_by_name('fully_connected/BiasAdd:0')\n",
        "#print(Z3.eval())\n",
        "#predict_op = tf.argmax(Z3, 1,name=\"Prediction\")\n",
        "#correct_prediction = tf.equal(predict_op, tf.argmax(Y, 1))\n",
        "# Calculate accuracy on the test set\n",
        "#accuracy = tf.reduce_mean(tf.cast(correct_prediction, \"float\"))\n",
        "#print(accuracy)\n",
        "test_output = sess.run(Z3, feed_dict={X: data_test})\n",
        "#train_accuracy = accuracy.eval({X: X_train, Y: y_train})\n",
        "print(\"Train Accuracy:\", test_output)"
      ],
      "execution_count": 0,
      "outputs": []
    },
    {
      "metadata": {
        "id": "y3_8BlNkECXg",
        "colab_type": "code",
        "colab": {}
      },
      "cell_type": "code",
      "source": [
        "#Since we divide the test set save accordingly\n",
        "np.savetxt(\"/gdrive/My Drive/10_output.csv\", output, delimiter=\",\")"
      ],
      "execution_count": 0,
      "outputs": []
    },
    {
      "metadata": {
        "id": "hOLP3fAXEb4v",
        "colab_type": "code",
        "colab": {}
      },
      "cell_type": "code",
      "source": [
        "#Just to make sure notebook dosent cache any value\n",
        "del data_test\n",
        "del output\n",
        "del test_output"
      ],
      "execution_count": 0,
      "outputs": []
    },
    {
      "metadata": {
        "id": "0_GP-TzvyPG_",
        "colab_type": "text"
      },
      "cell_type": "markdown",
      "source": [
        "Execute the cell below after completing execution of the graph on all the test dataset."
      ]
    },
    {
      "metadata": {
        "id": "d9tstWTLEoym",
        "colab_type": "code",
        "colab": {}
      },
      "cell_type": "code",
      "source": [
        "# combine all the output in one file\n",
        "import csv\n",
        "header = ['c0', 'c1','c2', 'c3','c4', 'c5','c6', 'c7','c8', 'c9']\n",
        "fout=open(\"/gdrive/My Drive/All_output.csv\",\"a\")  \n",
        "writer = csv.writer(fout, delimiter=',')\n",
        "writer.writerow(header)\n",
        "for num in range(1,11):\n",
        "  f = open(\"/gdrive/My Drive/\"+str(num)+\"_output\"+\".csv\",\"r+\")\n",
        "  for line in f:\n",
        "    if line:\n",
        "      fout.write(line)\n",
        "  f.close()\n",
        "fout.close()"
      ],
      "execution_count": 0,
      "outputs": []
    },
    {
      "metadata": {
        "id": "Y8_wzUmeEu6t",
        "colab_type": "code",
        "colab": {
          "base_uri": "https://localhost:8080/",
          "height": 34
        },
        "outputId": "32d1823a-8800-4777-ff3b-bc1eec5548a4"
      },
      "cell_type": "code",
      "source": [
        "import pandas as pd\n",
        "all_output_df= pd.read_csv('/gdrive/My Drive/All_output.csv', header=0, sep=',', quotechar='\"')\n",
        "print(type(all_output_df.values))"
      ],
      "execution_count": 16,
      "outputs": [
        {
          "output_type": "stream",
          "text": [
            "<class 'numpy.ndarray'>\n"
          ],
          "name": "stdout"
        }
      ]
    },
    {
      "metadata": {
        "id": "QaBs6qJJE_ON",
        "colab_type": "code",
        "colab": {
          "base_uri": "https://localhost:8080/",
          "height": 238
        },
        "outputId": "4cb65eab-bd20-428e-d0a4-91c23298e7bb"
      },
      "cell_type": "code",
      "source": [
        "a = all_output_df.values\n",
        "\n",
        "with tf.Session() as sess:\n",
        "  prob = sess.run(tf.nn.softmax(a))\n",
        "  print(prob)"
      ],
      "execution_count": 17,
      "outputs": [
        {
          "output_type": "stream",
          "text": [
            "[[1.46867931e-25 7.18464382e-39 2.52608797e-34 ... 5.67619656e-30\n",
            "  1.04469012e-28 1.43764113e-17]\n",
            " [1.64854128e-06 1.29759154e-04 8.42613969e-02 ... 4.60423269e-09\n",
            "  1.76797309e-07 7.28670068e-06]\n",
            " [1.02125005e-01 4.45429021e-01 4.70159956e-05 ... 2.18712314e-04\n",
            "  7.70363031e-03 4.42536895e-01]\n",
            " ...\n",
            " [1.06141150e-03 9.94142669e-01 7.49012478e-06 ... 4.71007038e-04\n",
            "  1.53726732e-03 4.63054093e-07]\n",
            " [4.87079556e-07 8.78558241e-14 4.25249118e-03 ... 2.70155768e-10\n",
            "  3.25988361e-07 4.11545869e-11]\n",
            " [4.92267821e-14 5.12390338e-16 3.21948811e-20 ... 1.95859018e-12\n",
            "  6.49135925e-06 4.24113164e-11]]\n"
          ],
          "name": "stdout"
        }
      ]
    },
    {
      "metadata": {
        "id": "uHTqBoyPtkpy",
        "colab_type": "code",
        "colab": {
          "base_uri": "https://localhost:8080/",
          "height": 34
        },
        "outputId": "ea5fbf6e-5fc8-482d-ed48-e805632c31b5"
      },
      "cell_type": "code",
      "source": [
        "prob.shape"
      ],
      "execution_count": 26,
      "outputs": [
        {
          "output_type": "execute_result",
          "data": {
            "text/plain": [
              "(79726, 10)"
            ]
          },
          "metadata": {
            "tags": []
          },
          "execution_count": 26
        }
      ]
    },
    {
      "metadata": {
        "id": "4iqh4yf-sF9t",
        "colab_type": "code",
        "colab": {}
      },
      "cell_type": "code",
      "source": [
        "import numpy as np\n",
        "np.savetxt(\"/gdrive/My Drive/prob1_output.csv\", prob, delimiter=\",\")"
      ],
      "execution_count": 0,
      "outputs": []
    },
    {
      "metadata": {
        "id": "BqG0yyaBsNGr",
        "colab_type": "code",
        "colab": {}
      },
      "cell_type": "code",
      "source": [
        "import csv\n",
        "header = ['c0', 'c1','c2', 'c3','c4', 'c5','c6', 'c7','c8', 'c9']\n",
        "fout=open(\"/gdrive/My Drive/submission1_prob_output.csv\",\"a\")  \n",
        "writer = csv.writer(fout, delimiter=',')\n",
        "writer.writerow(header)\n",
        "f = open(\"/gdrive/My Drive/prob1_output.csv\",\"r+\")\n",
        "for line in f:\n",
        "  if line:\n",
        "    fout.write(line)\n",
        "f.close()\n",
        "fout.close()"
      ],
      "execution_count": 0,
      "outputs": []
    },
    {
      "metadata": {
        "id": "WnGYaDjcxw5A",
        "colab_type": "code",
        "colab": {
          "base_uri": "https://localhost:8080/",
          "height": 34
        },
        "outputId": "9dd72aa2-8578-4830-c047-09efcf4eb890"
      },
      "cell_type": "code",
      "source": [
        "output_df =pd.read_csv('/gdrive/My Drive/submission1_prob_output.csv', header=0, sep=',', quotechar='\"')\n",
        "print(output_df.shape)"
      ],
      "execution_count": 31,
      "outputs": [
        {
          "output_type": "stream",
          "text": [
            "(79726, 10)\n"
          ],
          "name": "stdout"
        }
      ]
    },
    {
      "metadata": {
        "id": "49GulM7mx4DC",
        "colab_type": "code",
        "colab": {
          "base_uri": "https://localhost:8080/",
          "height": 3264
        },
        "outputId": "990450cb-afec-48b7-d6e6-66a26d1bec91"
      },
      "cell_type": "code",
      "source": [
        "#Merging the image name and predicted values\n",
        "df_col_merged =pd.concat([test_df[\"img\"], output_df], axis=1)\n",
        "print(df_col_merged.head)\n",
        "print(df_col_merged.shape)"
      ],
      "execution_count": 32,
      "outputs": [
        {
          "output_type": "stream",
          "text": [
            "<bound method NDFrame.head of                   img            c0            c1            c2            c3  \\\n",
            "0           img_1.jpg  1.468679e-25  7.184644e-39  2.526088e-34  4.451411e-22   \n",
            "1          img_10.jpg  1.648541e-06  1.297592e-04  8.426140e-02  7.965629e-01   \n",
            "2         img_100.jpg  1.021250e-01  4.454290e-01  4.701600e-05  8.144230e-06   \n",
            "3        img_1000.jpg  4.546844e-13  8.613402e-01  2.301230e-12  7.873325e-12   \n",
            "4      img_100000.jpg  1.530981e-08  1.605401e-19  4.659475e-12  2.087037e-02   \n",
            "5      img_100001.jpg  3.531345e-30  2.891284e-23  2.385166e-41  1.000000e+00   \n",
            "6      img_100002.jpg  5.871259e-15  1.000000e+00  7.084651e-15  1.382611e-09   \n",
            "7      img_100003.jpg  6.312677e-03  3.574346e-08  3.255467e-11  1.700602e-03   \n",
            "8      img_100004.jpg  3.322278e-14  5.235150e-10  2.839992e-11  2.702431e-09   \n",
            "9      img_100005.jpg  1.103615e-18  2.185751e-07  1.704909e-12  5.504486e-14   \n",
            "10     img_100007.jpg  1.100631e-07  1.116808e-12  1.356860e-11  2.697750e-12   \n",
            "11     img_100008.jpg  2.874387e-23  7.801212e-23  1.606168e-16  5.627903e-18   \n",
            "12     img_100009.jpg  1.159681e-16  1.302106e-08  1.250405e-11  3.111477e-12   \n",
            "13      img_10001.jpg  1.830824e-06  5.708679e-12  2.375449e-05  1.822889e-05   \n",
            "14     img_100010.jpg  1.213511e-07  1.933773e-15  9.867519e-01  8.339411e-18   \n",
            "15     img_100011.jpg  1.317351e-12  3.474058e-01  1.707835e-07  3.594760e-06   \n",
            "16     img_100012.jpg  1.087972e-12  7.297277e-12  1.403448e-19  3.852365e-16   \n",
            "17     img_100013.jpg  1.694258e-14  4.006695e-11  4.925696e-12  1.000000e+00   \n",
            "18     img_100014.jpg  2.700571e-08  1.063211e-05  9.990882e-01  7.631708e-05   \n",
            "19     img_100016.jpg  1.100208e-40  1.670422e-31  1.097798e-40  1.054344e-29   \n",
            "20     img_100017.jpg  3.623639e-05  4.468228e-07  9.208369e-01  3.249844e-10   \n",
            "21     img_100018.jpg  9.314938e-10  2.038075e-07  4.170564e-01  1.089892e-08   \n",
            "22     img_100019.jpg  2.246566e-11  1.510749e-12  9.228949e-03  2.666321e-12   \n",
            "23      img_10002.jpg  2.812164e-24  2.963083e-13  9.211177e-33  2.447347e-08   \n",
            "24     img_100020.jpg  5.240375e-14  3.617806e-10  1.504650e-09  9.999999e-01   \n",
            "25     img_100022.jpg  1.785017e-05  8.579381e-12  3.401042e-22  5.578025e-13   \n",
            "26     img_100023.jpg  1.474800e-09  2.377433e-06  9.237010e-01  7.625266e-02   \n",
            "27     img_100024.jpg  1.362479e-01  2.944905e-07  2.711561e-06  1.079520e-07   \n",
            "28     img_100025.jpg  1.091933e-18  1.127773e-10  5.294096e-07  5.701429e-16   \n",
            "29     img_100028.jpg  4.436311e-11  2.206033e-10  1.335712e-13  6.002720e-07   \n",
            "...               ...           ...           ...           ...           ...   \n",
            "79696   img_99960.jpg  6.676576e-16  2.962760e-19  1.596047e-14  2.065891e-14   \n",
            "79697   img_99961.jpg  2.299207e-03  4.071153e-07  1.365868e-10  2.218155e-06   \n",
            "79698   img_99962.jpg  3.190744e-29  1.195737e-21  6.014376e-18  5.708316e-08   \n",
            "79699   img_99966.jpg  2.504033e-07  6.396159e-14  4.326647e-10  1.105170e-05   \n",
            "79700   img_99967.jpg  1.682565e-13  6.211142e-11  9.963865e-01  3.608466e-03   \n",
            "79701   img_99968.jpg  3.953517e-04  6.738858e-08  9.642795e-09  1.896892e-12   \n",
            "79702   img_99969.jpg  8.530197e-12  5.126795e-20  1.120567e-08  1.781785e-10   \n",
            "79703    img_9997.jpg  6.520370e-14  9.999240e-01  1.673861e-09  5.026774e-14   \n",
            "79704   img_99970.jpg  5.039158e-01  4.811407e-07  5.699236e-15  4.960801e-01   \n",
            "79705   img_99972.jpg  1.729640e-21  6.785656e-21  3.106859e-15  2.259477e-09   \n",
            "79706   img_99973.jpg  9.986339e-01  5.270307e-09  1.271306e-06  4.583486e-08   \n",
            "79707   img_99974.jpg  1.658255e-30  9.850788e-05  1.937804e-28  9.461304e-16   \n",
            "79708   img_99975.jpg  1.771167e-29  1.999876e-19  6.748591e-42  1.000000e+00   \n",
            "79709   img_99981.jpg  2.368761e-11  5.678179e-13  1.008982e-12  1.676263e-10   \n",
            "79710   img_99983.jpg  8.767806e-05  2.497691e-14  4.999880e-07  4.108367e-06   \n",
            "79711   img_99984.jpg  1.786821e-11  5.932923e-18  8.594548e-15  4.957169e-13   \n",
            "79712   img_99985.jpg  2.070307e-23  3.038394e-13  1.230530e-19  2.087035e-19   \n",
            "79713   img_99986.jpg  2.539200e-09  9.992701e-01  4.014905e-10  8.279068e-09   \n",
            "79714   img_99987.jpg  1.023021e-11  8.936161e-17  3.643772e-09  1.675838e-11   \n",
            "79715   img_99988.jpg  3.373140e-09  2.724015e-09  3.964030e-12  1.000000e+00   \n",
            "79716   img_99989.jpg  1.739637e-06  3.517247e-07  7.383863e-05  1.269075e-10   \n",
            "79717    img_9999.jpg  9.279974e-01  2.155368e-04  3.406755e-11  8.023415e-03   \n",
            "79718   img_99990.jpg  1.089913e-09  1.068537e-13  4.371273e-10  3.785844e-10   \n",
            "79719   img_99991.jpg  3.976184e-06  1.127062e-08  5.987801e-01  2.955864e-10   \n",
            "79720   img_99993.jpg  2.896304e-10  1.643696e-10  3.472245e-14  6.746202e-11   \n",
            "79721   img_99994.jpg  2.998239e-12  5.106805e-01  4.893130e-01  1.462826e-12   \n",
            "79722   img_99995.jpg  1.870935e-04  1.646006e-02  8.167257e-11  9.817512e-01   \n",
            "79723   img_99996.jpg  1.061411e-03  9.941427e-01  7.490125e-06  2.775813e-03   \n",
            "79724   img_99998.jpg  4.870796e-07  8.785582e-14  4.252491e-03  3.232479e-12   \n",
            "79725   img_99999.jpg  4.922678e-14  5.123903e-16  3.219488e-20  2.460766e-13   \n",
            "\n",
            "                 c4            c5            c6            c7            c8  \\\n",
            "0      5.904789e-21  1.000000e+00  1.651868e-35  5.676197e-30  1.044690e-28   \n",
            "1      4.253126e-05  1.189941e-01  2.263451e-07  4.604233e-09  1.767973e-07   \n",
            "2      6.730791e-04  1.352225e-10  1.258497e-03  2.187123e-04  7.703630e-03   \n",
            "3      8.243750e-08  2.033476e-14  1.386548e-01  3.590809e-12  1.222228e-07   \n",
            "4      1.356753e-13  9.791296e-01  1.093051e-21  4.963246e-20  2.906334e-10   \n",
            "5      1.701652e-18  5.145946e-32  2.853920e-20  5.921667e-26  9.560364e-23   \n",
            "6      2.192378e-18  3.454173e-24  4.719221e-12  8.661767e-18  6.633670e-11   \n",
            "7      3.025685e-03  1.614337e-06  8.210796e-12  4.545020e-08  8.933378e-01   \n",
            "8      4.126464e-09  1.017933e-13  9.964737e-01  7.803036e-13  3.526314e-03   \n",
            "9      3.494477e-14  3.260167e-21  1.171736e-13  9.999998e-01  2.110688e-10   \n",
            "10     1.274125e-14  6.049980e-05  2.480457e-13  1.997056e-09  1.719573e-04   \n",
            "11     8.503679e-23  1.176993e-13  1.233798e-24  4.597793e-18  1.000000e+00   \n",
            "12     1.342863e-14  1.925553e-07  6.961409e-01  3.654260e-03  3.001604e-01   \n",
            "13     4.218525e-09  9.993239e-01  8.662370e-12  2.443407e-13  1.520845e-04   \n",
            "14     2.437354e-12  3.639254e-07  3.948750e-04  9.101164e-11  1.285271e-02   \n",
            "15     8.877017e-17  1.821733e-03  7.566933e-09  1.494100e-10  1.013530e-12   \n",
            "16     1.905223e-16  1.000000e+00  1.288649e-24  8.509505e-17  6.510037e-13   \n",
            "17     8.657247e-14  4.119726e-15  6.609121e-15  1.252192e-18  1.153869e-12   \n",
            "18     6.961483e-12  7.572304e-04  6.047395e-05  5.616475e-10  6.625500e-06   \n",
            "19     4.304867e-22  1.000000e+00  3.057643e-28  1.639539e-30  3.791370e-28   \n",
            "20     7.718954e-09  1.799201e-09  1.991516e-05  4.949225e-05  7.898981e-02   \n",
            "21     1.998347e-08  2.972789e-09  2.917279e-01  1.134400e-04  2.902585e-01   \n",
            "22     2.018809e-06  2.155954e-01  7.751644e-01  5.949287e-13  1.972548e-09   \n",
            "23     2.243360e-11  7.811620e-31  7.034783e-04  3.173829e-02  1.204612e-09   \n",
            "24     4.540844e-17  9.666419e-18  7.808732e-10  1.620889e-14  9.186289e-08   \n",
            "25     9.999816e-01  1.451342e-23  2.152298e-12  6.023201e-11  2.113620e-13   \n",
            "26     3.055023e-05  1.368735e-08  1.845734e-08  4.552281e-06  7.238285e-06   \n",
            "27     4.326019e-05  1.001417e-11  1.144591e-14  8.660782e-02  4.333435e-07   \n",
            "28     6.543994e-12  2.534226e-10  9.999994e-01  6.088431e-08  2.434426e-13   \n",
            "29     1.506957e-06  6.083785e-01  3.916194e-01  1.271596e-10  8.029703e-09   \n",
            "...             ...           ...           ...           ...           ...   \n",
            "79696  1.268548e-14  1.515304e-12  5.592646e-19  9.999990e-01  1.032620e-06   \n",
            "79697  9.713599e-01  3.982579e-17  3.414807e-13  6.518969e-08  3.549803e-03   \n",
            "79698  2.209069e-24  6.844968e-16  4.790404e-21  2.414835e-16  9.999999e-01   \n",
            "79699  1.161882e-03  9.988253e-01  1.046990e-14  8.419926e-12  8.677680e-08   \n",
            "79700  1.059454e-10  4.862077e-06  7.715257e-10  1.066767e-09  1.317515e-07   \n",
            "79701  9.540749e-13  7.038423e-15  1.761299e-12  8.740409e-13  9.995677e-01   \n",
            "79702  1.849718e-13  1.000000e+00  9.446132e-19  3.588436e-17  2.473133e-11   \n",
            "79703  4.368776e-15  1.395627e-15  7.592155e-05  7.187513e-13  3.428926e-14   \n",
            "79704  2.215212e-06  8.917795e-17  1.570987e-12  1.920878e-09  7.990649e-11   \n",
            "79705  1.150595e-11  1.810509e-20  1.000000e+00  3.617335e-15  5.183593e-09   \n",
            "79706  4.831592e-07  4.698616e-14  1.763662e-11  5.543784e-08  1.362686e-03   \n",
            "79707  1.883025e-09  6.418331e-03  7.798649e-17  5.147293e-12  8.418361e-15   \n",
            "79708  1.813745e-19  2.228892e-33  8.895695e-14  3.872834e-25  5.488337e-17   \n",
            "79709  1.631248e-01  6.894747e-18  1.334723e-04  9.778325e-11  8.367418e-01   \n",
            "79710  9.997340e-01  1.736647e-04  7.121494e-17  2.231179e-08  2.123160e-08   \n",
            "79711  5.739469e-19  1.000000e+00  1.019318e-21  8.533739e-17  5.637143e-14   \n",
            "79712  7.076408e-12  1.035095e-14  2.100290e-08  1.937074e-14  1.000000e+00   \n",
            "79713  3.844537e-17  8.270693e-20  7.299247e-04  1.253509e-19  1.128962e-09   \n",
            "79714  4.650078e-12  3.068378e-16  2.013479e-15  9.999997e-01  1.209609e-08   \n",
            "79715  1.549614e-08  6.063999e-11  9.893809e-13  4.928507e-12  4.786311e-18   \n",
            "79716  3.906690e-15  3.034828e-05  9.998774e-01  7.267008e-11  1.599895e-05   \n",
            "79717  1.421513e-08  7.492687e-07  7.774716e-10  1.007533e-02  4.980797e-02   \n",
            "79718  3.302732e-03  7.132520e-09  1.099851e-01  1.797008e-06  8.728611e-01   \n",
            "79719  1.352225e-12  2.730324e-01  1.403845e-15  3.204799e-06  6.049795e-02   \n",
            "79720  1.413436e-09  3.046050e-07  1.063376e-07  8.811532e-01  9.144835e-02   \n",
            "79721  6.330971e-10  2.122238e-13  7.631080e-07  5.675009e-06  7.333807e-08   \n",
            "79722  1.306898e-11  1.601401e-03  1.834157e-10  1.509712e-13  2.158002e-08   \n",
            "79723  8.943682e-07  3.283669e-10  2.984117e-06  4.710070e-04  1.537267e-03   \n",
            "79724  8.455095e-10  5.020258e-11  9.957467e-01  2.701558e-10  3.259884e-07   \n",
            "79725  1.880171e-10  9.999935e-01  1.227000e-19  1.958590e-12  6.491359e-06   \n",
            "\n",
            "                 c9  \n",
            "0      1.437641e-17  \n",
            "1      7.286701e-06  \n",
            "2      4.425369e-01  \n",
            "3      4.769196e-06  \n",
            "4      8.768062e-10  \n",
            "5      8.703436e-24  \n",
            "6      4.382319e-10  \n",
            "7      9.562154e-02  \n",
            "8      2.286540e-08  \n",
            "9      2.465309e-10  \n",
            "10     9.997674e-01  \n",
            "11     1.695665e-14  \n",
            "12     4.423025e-05  \n",
            "13     4.801995e-04  \n",
            "14     5.055137e-08  \n",
            "15     6.507687e-01  \n",
            "16     2.205518e-10  \n",
            "17     5.098239e-13  \n",
            "18     4.974049e-07  \n",
            "19     1.045723e-11  \n",
            "20     6.721237e-05  \n",
            "21     8.435814e-04  \n",
            "22     9.290472e-06  \n",
            "23     9.675582e-01  \n",
            "24     6.902026e-15  \n",
            "25     5.166649e-07  \n",
            "26     1.610126e-06  \n",
            "27     7.770975e-01  \n",
            "28     5.281742e-16  \n",
            "29     2.267819e-09  \n",
            "...             ...  \n",
            "79696  7.127672e-12  \n",
            "79697  2.278840e-02  \n",
            "79698  6.187849e-10  \n",
            "79699  1.451656e-06  \n",
            "79700  1.637092e-12  \n",
            "79701  3.688312e-05  \n",
            "79702  1.859468e-14  \n",
            "79703  6.611163e-08  \n",
            "79704  1.457517e-06  \n",
            "79705  2.075361e-16  \n",
            "79706  1.537489e-06  \n",
            "79707  9.934832e-01  \n",
            "79708  1.499020e-19  \n",
            "79709  6.077940e-11  \n",
            "79710  2.461257e-08  \n",
            "79711  5.258506e-10  \n",
            "79712  1.298315e-11  \n",
            "79713  1.696921e-12  \n",
            "79714  2.527488e-07  \n",
            "79715  2.109204e-11  \n",
            "79716  3.567922e-07  \n",
            "79717  3.879622e-03  \n",
            "79718  1.384917e-02  \n",
            "79719  6.768241e-02  \n",
            "79720  2.739803e-02  \n",
            "79721  5.874616e-11  \n",
            "79722  1.756780e-07  \n",
            "79723  4.630541e-07  \n",
            "79724  4.115459e-11  \n",
            "79725  4.241132e-11  \n",
            "\n",
            "[79726 rows x 11 columns]>\n",
            "(79726, 11)\n"
          ],
          "name": "stdout"
        }
      ]
    },
    {
      "metadata": {
        "id": "77CFJm9Ix_0W",
        "colab_type": "code",
        "colab": {}
      },
      "cell_type": "code",
      "source": [
        ""
      ],
      "execution_count": 0,
      "outputs": []
    }
  ]
}